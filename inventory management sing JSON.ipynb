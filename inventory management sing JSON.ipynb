{
 "cells": [
  {
   "cell_type": "code",
   "execution_count": 3,
   "id": "85ad830f-4676-4f07-85d5-6c71bb0a5883",
   "metadata": {},
   "outputs": [
    {
     "name": "stdout",
     "output_type": "stream",
     "text": [
      "--------------------MENU---------------------\n",
      "1001 5 Star 10 -20000\n",
      "1002 Bar-One 20 89\n",
      "1003 Candy 2 1000\n",
      "1004 Chocolate Cake 550 5\n",
      "1005 Blueberry Cake 650 3\n",
      "---------------------------------------------\n",
      "\n"
     ]
    },
    {
     "name": "stdin",
     "output_type": "stream",
     "text": [
      "Enter the Product ID: 1001\n",
      "Enter the Quantity: 10\n"
     ]
    },
    {
     "name": "stdout",
     "output_type": "stream",
     "text": [
      "Sorry we are not having enough quantity\n"
     ]
    }
   ],
   "source": [
    "import json\n",
    "\n",
    "fd = open(\"Records.json\",\"r\")\n",
    "js = fd.read()\n",
    "fd.close()\n",
    "\n",
    "record = json.loads(js)\n",
    "\n",
    "print(\"--------------------MENU---------------------\")\n",
    "for key in record.keys():\n",
    "    print(key, record[key]['Name'], record[key]['Price'], record[key]['Qn'])\n",
    "print(\"---------------------------------------------\\n\")\n",
    "\n",
    "\n",
    "\n",
    "ui_pr = (input(\"Enter the Product ID:\"))\n",
    "ui_qn = int(input(\"Enter the Quantity:\"))\n",
    "record[ui_pr][\"Qn\"]  = record[ui_pr][\"Qn\"] - ui_qn\n",
    "\n",
    "if (record[ui_pr][\"Qn\"]) >= ui_qn:\n",
    "    print (\"Name      :\", record[ui_pr][\"Name\"])\n",
    "    print (\"Price     :\", record[ui_pr][\"Price\"])\n",
    "    print (\"Quantity  :\", ui_qn)\n",
    "    print(\"-------------------------------------------\")\n",
    "    print(\"                 Bill                     \\n\")\n",
    "    print(\"Total Payble:\", ui_qn * record[ui_pr][\"Price\"],\"Rs\"\"\\n\")\n",
    "\n",
    "    print(\"_____________Thankyou, shop again!__________\")\n",
    "\n",
    "else:\n",
    "    print(\"Sorry we are not having enough quantity\")\n",
    "\n",
    "js = json.dumps(record)\n",
    "\n",
    "with open(\"Records.json\",\"w\") as fd:\n",
    "    \n",
    "    fd.write(js)\n"
   ]
  },
  {
   "cell_type": "code",
   "execution_count": 11,
   "id": "54237ba6-1d76-49ee-9a44-dcc520c144ce",
   "metadata": {},
   "outputs": [
    {
     "ename": "NameError",
     "evalue": "name 'Records' is not defined",
     "output_type": "error",
     "traceback": [
      "\u001b[1;31m---------------------------------------------------------------------------\u001b[0m",
      "\u001b[1;31mNameError\u001b[0m                                 Traceback (most recent call last)",
      "Cell \u001b[1;32mIn[11], line 1\u001b[0m\n\u001b[1;32m----> 1\u001b[0m \u001b[38;5;28mprint\u001b[39m(Records\u001b[38;5;241m.\u001b[39mjson)\n",
      "\u001b[1;31mNameError\u001b[0m: name 'Records' is not defined"
     ]
    }
   ],
   "source": [
    "\n"
   ]
  },
  {
   "cell_type": "code",
   "execution_count": null,
   "id": "2c7a4c4d-c29b-4add-a18c-b4d96081d025",
   "metadata": {},
   "outputs": [],
   "source": []
  },
  {
   "cell_type": "code",
   "execution_count": null,
   "id": "1a6af149-56f0-4399-ba6d-8c3057dea6a1",
   "metadata": {},
   "outputs": [],
   "source": []
  }
 ],
 "metadata": {
  "kernelspec": {
   "display_name": "Python 3 (ipykernel)",
   "language": "python",
   "name": "python3"
  },
  "language_info": {
   "codemirror_mode": {
    "name": "ipython",
    "version": 3
   },
   "file_extension": ".py",
   "mimetype": "text/x-python",
   "name": "python",
   "nbconvert_exporter": "python",
   "pygments_lexer": "ipython3",
   "version": "3.13.5"
  }
 },
 "nbformat": 4,
 "nbformat_minor": 5
}
